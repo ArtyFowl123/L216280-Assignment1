{
  "nbformat": 4,
  "nbformat_minor": 0,
  "metadata": {
    "colab": {
      "provenance": [],
      "collapsed_sections": []
    },
    "kernelspec": {
      "name": "python3",
      "display_name": "Python 3"
    },
    "language_info": {
      "name": "python"
    }
  },
  "cells": [
    {
      "cell_type": "markdown",
      "source": [
        "# Introduction To Data Science – Assignment 1\n",
        "\n",
        "---\n",
        "\n",
        "### Sections A – B – C – D\n",
        "\n",
        "---\n",
        "\n",
        "***Instructions***\n",
        "\n",
        "Due Date: Sunday 18th September 2022 – 11:59PM\n",
        "\n",
        "Name the file in the format Lyyxxxx and save it as .ipynb (e.g. L201234.ipynb)\n",
        "\n",
        "Submission will be taken on **GitHub and Google Classroom (submit the .ipynb file)** - Instructions to upload onto GitHub are provided in the link https://docs.google.com/document/d/1BR1ULOGeGWJVU6Rr6Qty1FR-quVRZyRvQGII6nEs-wo/edit?usp=sharing\n",
        "\n",
        "After uploading and submitting the .ipynb file onto Google Classroom, also private comment the link to the GitHub repository.\n",
        "\n",
        "All source files needed to complete this assignment can be found on the following Google Drive link https://drive.google.com/drive/folders/1VrkaVcExGWqilSeh50WZe4gUBjmUiJ9b?usp=sharing\n",
        "\n",
        "TA Emails\n",
        "\n",
        "Section A, C - Muhammad Maarij l192347@lhr.nu.edu.pk\n",
        "\n",
        "Section B, D - Hira Ijaz l192377@lhr.nu.edu.pk\n",
        "\n",
        "Happy Coding 😊\n",
        "\n",
        "---"
      ],
      "metadata": {
        "id": "TWWLTwYZorzC"
      }
    },
    {
      "cell_type": "markdown",
      "source": [
        "---\n",
        "## Question 1\n",
        "---"
      ],
      "metadata": {
        "id": "arB_0r9H0jjC"
      }
    },
    {
      "cell_type": "markdown",
      "source": [
        "Define a procedure called \"check_input\" that takes an input as a square list of lists (2D Matrix of N x N) and returns a boolen \"true\" if the input is valid or \"false\" otherwise, according to the following criteria.\n",
        "\n",
        "1. Each coloumn must contain numbers from between 1 and N, with no duplicates.\n",
        "2. Each row must contain numbers from between 1 and N, with no duplicates."
      ],
      "metadata": {
        "id": "qHPTNDy30n99"
      }
    },
    {
      "cell_type": "code",
      "source": [
        "# define procedure here\n",
        "def testmatrix(rows, cols, val):\n",
        "  if rows != cols:\n",
        "    print(\"unequal no of rows and columns\")\n",
        "    return False\n",
        "    isPresent = [[False for i in range(n)] \n",
        "                        for j in range(m)]\n",
        "  \n",
        "  \n",
        "    for i in range(rows):\n",
        "        for j in range(cols):\n",
        "\n",
        "            if not isinstance(val[i][j], int):\n",
        "              return False\n",
        "            for k in range(rows):\n",
        "                if i != k and val[i][j] == a[k][j]:\n",
        "                    isPresent[i][j] = True\n",
        "                    isPresent[k][j] = True\n",
        "            for k in range(cols):\n",
        "                if j != k and val[i][j] == a[i][k]:\n",
        "                    isPresent[i][j] = True\n",
        "                    isPresent[i][k] = True\n",
        "    for i in range(rows):\n",
        "        for j in range(cols):\n",
        "                if not isPresent[i][j]:\n",
        "                  continue\n",
        "                else:\n",
        "                  return False\n",
        "    return True\n",
        "\n",
        "    #driver code\n",
        "rows=int(input(\"enter no of rows\") )   \n",
        "cols=int(input(\"enter no of columns\"))\n",
        "for i in range(rows):\n",
        "  for j in range(cols):\n",
        "    val=int(input(\"enter values\"))\n",
        "flag = testmatrix(rows, cols, val)\n",
        "print(flag)"
      ],
      "metadata": {
        "id": "S2_Zic322Lt7"
      },
      "execution_count": null,
      "outputs": []
    },
    {
      "cell_type": "code",
      "source": [
        "# run this block to test code after defining the procedure\n",
        "\n",
        "test1 = [[1, 2, 3],\n",
        "        [2, 3, 1],\n",
        "        [3, 1, 2]]\n",
        "\n",
        "test2 = [[1, 2, 3, 4],\n",
        "        [2, 3, 1, 3],\n",
        "        [3, 1, 2, 3],\n",
        "        [4, 4, 4, 4]]\n",
        "\n",
        "test3 = [['a', 'b', 'c'],\n",
        "        ['b', 'c', 'a'],\n",
        "        ['c', 'a', 'b']]\n",
        "\n",
        "print(check_input(test1)) # must return true\n",
        "print(check_input(test2)) # must return false\n",
        "print(check_input(test3)) # must return false"
      ],
      "metadata": {
        "id": "wdL9MWgq2ZbP"
      },
      "execution_count": null,
      "outputs": []
    },
    {
      "cell_type": "markdown",
      "source": [
        "---\n",
        "## Question 2\n",
        "---"
      ],
      "metadata": {
        "id": "4RVTlnhWqOUC"
      }
    },
    {
      "cell_type": "markdown",
      "source": [
        "**Part A** - Import the file \"StudentMarkSheet.csv\" as a Pandas DataFrame and print the information for the dataframe"
      ],
      "metadata": {
        "id": "Uyc7JPtNt0pR"
      }
    },
    {
      "cell_type": "code",
      "execution_count": null,
      "metadata": {
        "id": "wYrt7e6Xop2P"
      },
      "outputs": [],
      "source": [
        "import pandas as pd\n",
        "import numpy as np\n",
        "import matplotlib.pyplot as plt\n",
        "\n",
        "data=pd.read_csv(\"StudentMarkSheet.csv\")"
      ]
    },
    {
      "cell_type": "markdown",
      "source": [
        "**Part B** - Remove any rows that do not contain all the data. Also print the following information.\n",
        "\n",
        "1. Number of rows before\n",
        "2. Number of rows containing null data\n",
        "3. Number of rows after"
      ],
      "metadata": {
        "id": "jIaMvgcft_i0"
      }
    },
    {
      "cell_type": "code",
      "source": [
        "import pandas as pd\n",
        "import numpy as np\n",
        "import matplotlib.pyplot as plt\n",
        "data=pd.read_csv(\"StudentMarkSheet.csv\")\n",
        "print(data.info)\n",
        "df=data.dropna()\n",
        "print(df.info)\n"
      ],
      "metadata": {
        "id": "_ov_SWdxuZUm"
      },
      "execution_count": null,
      "outputs": []
    },
    {
      "cell_type": "markdown",
      "source": [
        "**Part C** - Print all the marks along with the subject for the student named \"James Walker\""
      ],
      "metadata": {
        "id": "2kd9zAX6wkXM"
      }
    },
    {
      "cell_type": "code",
      "source": [
        "import pandas as pd\n",
        "import numpy as np\n",
        "import matplotlib.pyplot as plt\n",
        "data=pd.read_csv(\"StudentMarkSheet.csv\")\n",
        "print(data.info)\n",
        "df=data.dropna()\n",
        "print(df.info)\n",
        "\n",
        "data=df[df['Student name']==\"James Walker\"]\n",
        "print(data)\n",
        "data=data[\"Marks\"]\n",
        "print(data)"
      ],
      "metadata": {
        "id": "N0HWJN-PwuSo",
        "outputId": "54f93e13-b6a2-432f-b2fa-6ddf3dee69f5",
        "colab": {
          "base_uri": "https://localhost:8080/"
        }
      },
      "execution_count": 3,
      "outputs": [
        {
          "output_type": "stream",
          "name": "stdout",
          "text": [
            "<bound method DataFrame.info of         Student name  Exam name   Exam date  Marks\n",
            "0       James Walker    Biology  05/06/2016   31.0\n",
            "1      Velma Clemons    Biology  05/06/2016   43.0\n",
            "2     Kibo Underwood    Biology  05/06/2016   81.0\n",
            "3        Louis Mcgee    Biology  05/06/2016   11.0\n",
            "4       Phyllis Paul    Biology  05/06/2016   18.0\n",
            "..               ...        ...         ...    ...\n",
            "195       Yen Bowers  Sociology  21/06/2016   52.0\n",
            "196        Ryan Pena  Sociology  21/06/2016   16.0\n",
            "197  Portia Hamilton  Sociology  21/06/2016   34.0\n",
            "198  Sydnee Chambers  Sociology  21/06/2016   76.0\n",
            "199      Stacy Small  Sociology  21/06/2016   96.0\n",
            "\n",
            "[200 rows x 4 columns]>\n",
            "<bound method DataFrame.info of         Student name  Exam name   Exam date  Marks\n",
            "0       James Walker    Biology  05/06/2016   31.0\n",
            "1      Velma Clemons    Biology  05/06/2016   43.0\n",
            "2     Kibo Underwood    Biology  05/06/2016   81.0\n",
            "3        Louis Mcgee    Biology  05/06/2016   11.0\n",
            "4       Phyllis Paul    Biology  05/06/2016   18.0\n",
            "..               ...        ...         ...    ...\n",
            "195       Yen Bowers  Sociology  21/06/2016   52.0\n",
            "196        Ryan Pena  Sociology  21/06/2016   16.0\n",
            "197  Portia Hamilton  Sociology  21/06/2016   34.0\n",
            "198  Sydnee Chambers  Sociology  21/06/2016   76.0\n",
            "199      Stacy Small  Sociology  21/06/2016   96.0\n",
            "\n",
            "[196 rows x 4 columns]>\n",
            "     Student name    Exam name   Exam date  Marks\n",
            "0    James Walker      Biology  05/06/2016   31.0\n",
            "42   James Walker    Chemistry  15/06/2016   61.0\n",
            "71   James Walker  Mathematics  29/07/2016   23.0\n",
            "150  James Walker      Physics  10/06/2016  100.0\n",
            "180  James Walker    Sociology  21/06/2016   73.0\n",
            "0       31.0\n",
            "42      61.0\n",
            "71      23.0\n",
            "150    100.0\n",
            "180     73.0\n",
            "Name: Marks, dtype: float64\n"
          ]
        }
      ]
    },
    {
      "cell_type": "markdown",
      "source": [
        "---\n",
        "## Question 3\n",
        "---"
      ],
      "metadata": {
        "id": "ts8Y1EXmwzhf"
      }
    },
    {
      "cell_type": "markdown",
      "source": [
        "**Part A** - From the DataFrame created in Question 2, calculate the average marks for each subject"
      ],
      "metadata": {
        "id": "PJENm_hpw3GQ"
      }
    },
    {
      "cell_type": "code",
      "source": [
        "import pandas as pd\n",
        "import numpy as np\n",
        "import matplotlib.pyplot as plt\n",
        "data=pd.read_csv(\"StudentMarkSheet.csv\")\n",
        "df=data.dropna()\n",
        "\n",
        "#average marks for each subject\n",
        "#Biology\n",
        "bio1=df[df['Exam name']==\"Biology\"]\n",
        "#print(bio1)\n",
        "bio=float(bio1.mean())\n",
        "print(\"Biology Average: \", bio)\n",
        "\n",
        "#Chemistry\n",
        "chem1=df[df['Exam name']==\"Chemistry\"]\n",
        "chem=float(chem1.mean())\n",
        "print(\"Chemistry Average: \", chem)\n",
        "\n",
        "#Mathematics\n",
        "math1=df[df['Exam name']==\"Mathematics\"]\n",
        "math=float(math1.mean())\n",
        "print(\"Mathematics Average: \", math)\n",
        "\n",
        "#Philosophy\n",
        "phil1=df[df['Exam name']==\"Philosophy\"]\n",
        "phil=float(phil1.mean())\n",
        "print(\"Philosophy Average: \", phil)\n",
        "\n",
        "#Physics\n",
        "phy1=df[df['Exam name']==\"Physics\"]\n",
        "phy=float(phy1.mean())\n",
        "print(\"Physics Average: \", phy)\n",
        "\n",
        "#Sociology\n",
        "soc1=df[df['Exam name']==\"Sociology\"]\n",
        "soc=float(soc1.mean())\n",
        "print(\"Sociology Average: \", soc)"
      ],
      "metadata": {
        "id": "AxhCtST5xS3L",
        "outputId": "400434e3-31b3-4678-85d7-32ecba52a5c0",
        "colab": {
          "base_uri": "https://localhost:8080/"
        }
      },
      "execution_count": 2,
      "outputs": [
        {
          "output_type": "stream",
          "name": "stdout",
          "text": [
            "Biology Average:  47.89473684210526\n",
            "Chemistry Average:  50.57692307692308\n",
            "Mathematics Average:  48.97222222222222\n",
            "Philosophy Average:  47.270270270270274\n",
            "Physics Average:  51.76190476190476\n",
            "Sociology Average:  56.026315789473685\n"
          ]
        },
        {
          "output_type": "stream",
          "name": "stderr",
          "text": [
            "/usr/local/lib/python3.7/dist-packages/ipykernel_launcher.py:10: FutureWarning: Dropping of nuisance columns in DataFrame reductions (with 'numeric_only=None') is deprecated; in a future version this will raise TypeError.  Select only valid columns before calling the reduction.\n",
            "  # Remove the CWD from sys.path while we load stuff.\n",
            "/usr/local/lib/python3.7/dist-packages/ipykernel_launcher.py:15: FutureWarning: Dropping of nuisance columns in DataFrame reductions (with 'numeric_only=None') is deprecated; in a future version this will raise TypeError.  Select only valid columns before calling the reduction.\n",
            "  from ipykernel import kernelapp as app\n",
            "/usr/local/lib/python3.7/dist-packages/ipykernel_launcher.py:20: FutureWarning: Dropping of nuisance columns in DataFrame reductions (with 'numeric_only=None') is deprecated; in a future version this will raise TypeError.  Select only valid columns before calling the reduction.\n",
            "/usr/local/lib/python3.7/dist-packages/ipykernel_launcher.py:25: FutureWarning: Dropping of nuisance columns in DataFrame reductions (with 'numeric_only=None') is deprecated; in a future version this will raise TypeError.  Select only valid columns before calling the reduction.\n",
            "/usr/local/lib/python3.7/dist-packages/ipykernel_launcher.py:30: FutureWarning: Dropping of nuisance columns in DataFrame reductions (with 'numeric_only=None') is deprecated; in a future version this will raise TypeError.  Select only valid columns before calling the reduction.\n",
            "/usr/local/lib/python3.7/dist-packages/ipykernel_launcher.py:35: FutureWarning: Dropping of nuisance columns in DataFrame reductions (with 'numeric_only=None') is deprecated; in a future version this will raise TypeError.  Select only valid columns before calling the reduction.\n"
          ]
        }
      ]
    },
    {
      "cell_type": "markdown",
      "source": [
        "**Part B** - Using the averages you just calculated, plot a Bar Graph showing the average marks of each subject"
      ],
      "metadata": {
        "id": "NDlaA7hHxUBc"
      }
    },
    {
      "cell_type": "code",
      "source": [
        "#plotting bar graph\n",
        "x=np.array(['Biology', 'Chemistry', 'Mathematics', 'Philosophy', 'Physics', 'Sociology'])\n",
        "y=np.array(['47.89', '50.58', '48.97', '47.27', '51.76', ' 56.03' ])\n",
        "plt.bar(x,y)\n",
        "plt.show()"
      ],
      "metadata": {
        "id": "LWoPFZBOyyNn"
      },
      "execution_count": null,
      "outputs": []
    },
    {
      "cell_type": "markdown",
      "source": [
        "---\n",
        "## Question 4\n",
        "---"
      ],
      "metadata": {
        "id": "dWlOSOIs6d1R"
      }
    },
    {
      "cell_type": "markdown",
      "source": [
        "**Part A** - Import the file \"CatData.csv\" and preprocess it to remove any null values"
      ],
      "metadata": {
        "id": "b4s-pN4v6kgb"
      }
    },
    {
      "cell_type": "code",
      "source": [
        "import numpy as np\n",
        "import pandas as pd\n",
        "import matplotlib.pyplot as plt\n",
        "\n",
        "data=pd.read_csv(\"CatData.csv\")\n",
        "data.info\n",
        "data=data.dropna()\n",
        "print(data)"
      ],
      "metadata": {
        "id": "mvZ3xrBV9b1s"
      },
      "execution_count": null,
      "outputs": []
    },
    {
      "cell_type": "markdown",
      "source": [
        "**Part B** - Identify the independant and dependant variables (comment answer below)"
      ],
      "metadata": {
        "id": "bWxuB3ep9SWA"
      }
    },
    {
      "cell_type": "code",
      "source": [
        "# dependant variable: Tail Length\n",
        "# independant variable: Mass"
      ],
      "metadata": {
        "id": "TS9tvuRt9cWr"
      },
      "execution_count": null,
      "outputs": []
    },
    {
      "cell_type": "markdown",
      "source": [
        "**Part C** - Create a linear regression model using sklearn and fit it to the data you just imported\n"
      ],
      "metadata": {
        "id": "xPHVA3cX7uk9"
      }
    },
    {
      "cell_type": "code",
      "source": [
        "import numpy as np\n",
        "import pandas as pd\n",
        "import matplotlib.pyplot as plt\n",
        "from sklearn import preprocessing, svm\n",
        "from sklearn.model_selection import train_test_split\n",
        "from sklearn.linear_model import LinearRegression\n",
        "import seaborn as sns\n",
        "\n",
        "data=pd.read_csv(\"CatData.csv\")\n",
        "data.info\n",
        "data=data.dropna()\n",
        "print(data)\n",
        "#dependant variable= Tail Length (cm)\n",
        "#independant variable= Mass (kg)\n",
        "y=data['Tail Length (cm)']\n",
        "x=data['Mass (kg)']\n",
        "\n",
        "#scatter plot:\n",
        "plt.scatter(data[\"Mass (kg)\"], data[\"Tail Length (cm)\"])\n",
        "plt.title(\"Tail Length vs Mass\")\n",
        "plt.xlabel(\"Mass (kg)\")\n",
        "plt.ylabel(\"Tail Length (cm)\")\n",
        "plt.show()\n",
        "\n",
        "#test and training dataset\n",
        "num1=int(len(data)*0.8)\n",
        "train=data[:num1]    #training data\n",
        "test=data[num1:]     #testing data\n",
        "print(\"Data: \", len(data))\n",
        "print(\"Training Data: \", len(train))\n",
        "print(\"Testing Data: \", len(test))\n",
        "\n",
        "\n",
        "#boxplot\n",
        "\n",
        "#training data\n",
        "\n",
        "regr=LinearRegression()\n",
        "train_x=np.array(train[[\"Mass (kg)\"]])\n",
        "train_y=np.array(train[[\"Tail Length (cm)\"]])\n",
        "regr.fit(train_x, train_y)\n",
        "coeffecients=regr.coef_\n",
        "intercept=regr.intercept_"
      ],
      "metadata": {
        "id": "WYVNRotH9cyo"
      },
      "execution_count": null,
      "outputs": []
    },
    {
      "cell_type": "markdown",
      "source": [
        "**Part D** - Print the values for slope and y-intercept"
      ],
      "metadata": {
        "id": "0QMipKhb830G"
      }
    },
    {
      "cell_type": "code",
      "source": [
        "import numpy as np\n",
        "import pandas as pd\n",
        "import matplotlib.pyplot as plt\n",
        "from sklearn import preprocessing, svm\n",
        "from sklearn.model_selection import train_test_split\n",
        "from sklearn.linear_model import LinearRegression\n",
        "import seaborn as sns\n",
        "\n",
        "data=pd.read_csv(\"CatData.csv\")\n",
        "data.info\n",
        "data=data.dropna()\n",
        "print(data)\n",
        "#dependant variable= Tail Length (cm)\n",
        "#independant variable= Mass (kg)\n",
        "y=data['Tail Length (cm)']\n",
        "x=data['Mass (kg)']\n",
        "\n",
        "#scatter plot:\n",
        "plt.scatter(data[\"Mass (kg)\"], data[\"Tail Length (cm)\"])\n",
        "plt.title(\"Tail Length vs Mass\")\n",
        "plt.xlabel(\"Mass (kg)\")\n",
        "plt.ylabel(\"Tail Length (cm)\")\n",
        "plt.show()\n",
        "\n",
        "#test and training dataset\n",
        "num1=int(len(data)*0.8)\n",
        "train=data[:num1]    #training data\n",
        "test=data[num1:]     #testing data\n",
        "print(\"Data: \", len(data))\n",
        "print(\"Training Data: \", len(train))\n",
        "print(\"Testing Data: \", len(test))\n",
        "\n",
        "\n",
        "#boxplot\n",
        "\n",
        "#training data\n",
        "\n",
        "regr=LinearRegression()\n",
        "train_x=np.array(train[[\"Mass (kg)\"]])\n",
        "train_y=np.array(train[[\"Tail Length (cm)\"]])\n",
        "regr.fit(train_x, train_y)\n",
        "coeffecients=regr.coef_\n",
        "intercept=regr.intercept_\n",
        "print(\"Slope: \", coeffecients)\n",
        "print(\"Intercept: \", intercept)\n",
        "\n",
        "\n",
        "\n",
        "\n",
        "\n"
      ],
      "metadata": {
        "id": "R7cvi3KB9dJh",
        "outputId": "8fa0a88b-9b4a-4561-b05b-9c0f3986b0ba",
        "colab": {
          "base_uri": "https://localhost:8080/",
          "height": 625
        }
      },
      "execution_count": 10,
      "outputs": [
        {
          "output_type": "stream",
          "name": "stdout",
          "text": [
            "     Tail Length (cm)  Mass (kg)\n",
            "0                18.1      3.750\n",
            "1                18.6      3.800\n",
            "2                19.5      3.250\n",
            "3                19.3      3.450\n",
            "4                19.0      3.650\n",
            "..                ...        ...\n",
            "337              20.7      4.000\n",
            "338              20.2      3.400\n",
            "339              19.3      3.775\n",
            "340              21.0      4.100\n",
            "341              19.8      3.775\n",
            "\n",
            "[342 rows x 2 columns]\n"
          ]
        },
        {
          "output_type": "display_data",
          "data": {
            "text/plain": [
              "<Figure size 432x288 with 1 Axes>"
            ],
            "image/png": "[encoded data removed]"
          },
          "metadata": {
            "needs_background": "light"
          }
        },
        {
          "output_type": "stream",
          "name": "stdout",
          "text": [
            "Data:  342\n",
            "Training Data:  273\n",
            "Testing Data:  69\n",
            "Slope:  [[1.59183664]]\n",
            "Intercept:  [13.34657289]\n"
          ]
        }
      ]
    },
    {
      "cell_type": "markdown",
      "source": [
        "**Part E** - Plot a scatter graph of the original data and a regression line on the same figure (example with dummy data shown below)\n",
        "\n",
        "![](https://drive.google.com/uc?export=view&id=1o_NAsNjfx7zAh9m-UjvWB3rta6uraKdY)"
      ],
      "metadata": {
        "id": "IIq-BQYp_i33"
      }
    },
    {
      "cell_type": "code",
      "source": [
        "import numpy as np\n",
        "import pandas as pd\n",
        "import matplotlib.pyplot as plt\n",
        "from sklearn import preprocessing, svm\n",
        "from sklearn.model_selection import train_test_split\n",
        "from sklearn.linear_model import LinearRegression\n",
        "import seaborn as sns\n",
        "\n",
        "data=pd.read_csv(\"CatData.csv\")\n",
        "data.info\n",
        "data=data.dropna()\n",
        "print(data)\n",
        "#dependant variable= Tail Length (cm)\n",
        "#independant variable= Mass (kg)\n",
        "y=data['Tail Length (cm)']\n",
        "x=data['Mass (kg)']\n",
        "\n",
        "#scatter plot:\n",
        "plt.scatter(data[\"Mass (kg)\"], data[\"Tail Length (cm)\"])\n",
        "plt.title(\"Tail Length vs Mass\")\n",
        "plt.xlabel(\"Mass (kg)\")\n",
        "plt.ylabel(\"Tail Length (cm)\")\n",
        "plt.show()\n",
        "\n",
        "#test and training dataset\n",
        "num1=int(len(data)*0.8)\n",
        "train=data[:num1]    #training data\n",
        "test=data[num1:]     #testing data\n",
        "print(\"Data: \", len(data))\n",
        "print(\"Training Data: \", len(train))\n",
        "print(\"Testing Data: \", len(test))\n",
        "\n",
        "\n",
        "#boxplot\n",
        "\n",
        "#training data\n",
        "\n",
        "regr=LinearRegression()\n",
        "train_x=np.array(train[[\"Mass (kg)\"]])\n",
        "train_y=np.array(train[[\"Tail Length (cm)\"]])\n",
        "regr.fit(train_x, train_y)\n",
        "coeffecients=regr.coef_\n",
        "intercept=regr.intercept_\n",
        "print(\"Slope: \", coeffecients)\n",
        "print(\"Intercept: \", intercept)\n",
        "\n",
        "#SCATTER PLOT + BEST FIT LINE\n",
        "plt.scatter(train[\"Mass (kg)\"], train[\"Tail Length (cm)\"])\n",
        "plt.plot(train_x, coeffecients[0]*train_x+intercept, color=\"red\")\n",
        "plt.xlabel(\"Mass (kg)\")\n",
        "plt.ylabel(\"Tail Length (cm)\")\n",
        "plt.show()"
      ],
      "metadata": {
        "id": "jhz8gTYt_lCn"
      },
      "execution_count": null,
      "outputs": []
    }
  ]
}